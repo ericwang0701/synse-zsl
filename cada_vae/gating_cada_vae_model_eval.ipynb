{
 "cells": [
  {
   "cell_type": "code",
   "execution_count": 28,
   "metadata": {},
   "outputs": [
    {
     "name": "stdout",
     "output_type": "stream",
     "text": [
      "1\n",
      "Train on 36548 samples, validate on 1356 samples\n",
      "loaded language embeddings\n"
     ]
    }
   ],
   "source": [
    "import argparse\n",
    "import time\n",
    "import shutil\n",
    "import os\n",
    "import os.path as osp\n",
    "import csv\n",
    "import numpy as np\n",
    "import torch\n",
    "import torch.nn as nn\n",
    "import torch.optim as optim\n",
    "from torch.optim.lr_scheduler import ReduceLROnPlateau, StepLR\n",
    "import torchvision.models as models\n",
    "from resnext_specialist import VA\n",
    "from data_cnn60 import NTUDataLoaders, AverageMeter, make_dir, get_cases, get_num_classes\n",
    "from sklearn.metrics import confusion_matrix\n",
    "from collections import OrderedDict\n",
    "import torch.nn.functional as F\n",
    "from fgar import AE, PosMmen, JPosMmen, contractive_loss, MMDLoss, multi_class_hinge_loss, triplet_loss \n",
    "\n",
    "# parser = argparse.ArgumentParser(description='View adaptive')\n",
    "# parser.add_argument('--ss', type=int, help=\"split size\")\n",
    "# parser.add_argument('--st', type=str, help=\"split type\")\n",
    "# parser.add_argument('--dataset', type=str, help=\"dataset path\")\n",
    "# parser.add_argument('--wdir', type=str, help=\"directory to save weights path\")\n",
    "# parser.add_argument('--le', type=str, help=\"language embedding model\")\n",
    "# parser.add_argument('--ve', type=str, help=\"visual embedding model\")\n",
    "# parser.add_argument('--phase', type=str, help=\"train or val\")\n",
    "# parser.add_argument('--gpu', type=str, help=\"gpu device number\")\n",
    "# args = parser.parse_args()\n",
    "\n",
    "gpu = '0'\n",
    "ss = 5\n",
    "st = 'r'\n",
    "dataset_path = 'ntu_results/shift_5_r'\n",
    "# wdir = gating_our\n",
    "le = 'bert'\n",
    "ve = 'shift'\n",
    "phase = 'train'\n",
    "num_classes = 60\n",
    "\n",
    "os.environ[\"CUDA_VISIBLE_DEVICES\"] = gpu\n",
    "seed = 5\n",
    "torch.manual_seed(seed)\n",
    "torch.cuda.manual_seed(seed)\n",
    "np.random.seed(seed)\n",
    "device = torch.device(\"cuda\")\n",
    "print(torch.cuda.device_count())\n",
    "\n",
    "\n",
    "# if not os.path.exists('/ssd_scratch/cvit/pranay.gupta/language_modelling/' + wdir):\n",
    "#     os.mkdir('/ssd_scratch/cvit/pranay.gupta/language_modelling/' + wdir)\n",
    "# if not os.path.exists('/ssd_scratch/cvit/pranay.gupta/language_modelling/' + wdir + '/' + le):\n",
    "#     os.mkdir('/ssd_scratch/cvit/pranay.gupta/language_modelling/' + wdir + '/' + le)\n",
    "\n",
    "# trunk_checkpoint = '/ssd_scratch/cvit/pranay.gupta/ntu_results/vacnn_val_'+str(ss)+'_'+st+'/best_val_0.pth.tar'\n",
    "# trunk = nn.DataParallel(VA(60), device_ids=[0, 1, 2, 3])\n",
    "# trunk = trunk.to(device)\n",
    "# criterion1 = nn.CrossEntropyLoss(reduction = 'none').to(device)\n",
    "# trunk.load_state_dict(torch.load(trunk_checkpoint)['trunk_state_dict'], strict=False)\n",
    "# trunk_optimizer = optim.Adam(trunk.parameters(), lr=0.00001, weight_decay = 0.001)\n",
    "# trunk_scheduler = ReduceLROnPlateau(trunk_optimizer, mode='max', factor=0.1, patience=2, cooldown=2, verbose=True)\n",
    "# print(\"Loaded Visual Encoder\")\n",
    "\n",
    "\n",
    "criterion2 = nn.MSELoss().to(device)\n",
    "\n",
    "if ve == 'vacnn':\n",
    "    vis_emb_input_size = 2048\n",
    "elif ve == 'shift':\n",
    "    vis_emb_input_size = 256\n",
    "else: \n",
    "    pass    \n",
    "    \n",
    "text_hidden_size = 100\n",
    "vis_hidden_size = 512\n",
    "output_size = 50\n",
    "\n",
    "if le == 'bert_large':\n",
    "    noun_emb_input_size = 1024\n",
    "    verb_emb_input_size = 1024\n",
    "elif le == 'w2v':\n",
    "    noun_emb_input_size = 300\n",
    "    verb_emb_input_size = 300\n",
    "else:\n",
    "    pass\n",
    "\n",
    "ntu_loaders = NTUDataLoaders(dataset_path, 'max', 1)\n",
    "train_loader = ntu_loaders.get_train_loader(1024, 8)\n",
    "zsl_loader = ntu_loaders.get_val_loader(1024, 8)\n",
    "val_loader = ntu_loaders.get_test_loader(1024, 8)\n",
    "zsl_out_loader = ntu_loaders.get_val_out_loader(1024, 8)\n",
    "val_out_loader = ntu_loaders.get_test_out_loader(1024, 8)\n",
    "train_size = ntu_loaders.get_train_size()\n",
    "zsl_size = ntu_loaders.get_val_size()\n",
    "val_size = ntu_loaders.get_test_size()\n",
    "print('Train on %d samples, validate on %d samples' % (train_size, zsl_size))\n",
    "\n",
    "\n",
    "\n",
    "nouns_vocab = np.load('nouns_vocab.npy')\n",
    "verbs_vocab = np.load('verbs_vocab.npy')\n",
    "nouns = nouns_vocab[np.argmax(np.load('nouns_ohe.npy'), -1)][:num_classes]\n",
    "# nouns[nouns == 'object'] = '#'\n",
    "# nouns[51] = 'someone'\n",
    "# nouns[55] = 'object'\n",
    "# nouns = np.load('nouns.npy')\n",
    "verbs = verbs_vocab[np.argmax(np.load('verbs_ohe.npy'), -1)][:num_classes]\n",
    "# nouns = np.load('nouns.npy')\n",
    "# verbs = np.load('verbs.npy')\n",
    "# prps = np.load('prepositions.npy')\n",
    "labels = np.load('labels.npy')\n",
    "\n",
    "if phase == 'val':\n",
    "    gzsl_inds = np.load('./label_splits/'+ st + 's' + str(num_classes - ss) +'.npy')\n",
    "    unseen_inds = np.sort(np.load('./label_splits/' + st + 'v' + str(ss) + '_0.npy'))\n",
    "    seen_inds = np.load('./label_splits/'+ st + 's' + str(num_classes - ss -ss) + '_0.npy')\n",
    "else:\n",
    "    gzsl_inds = np.arange(num_classes)\n",
    "    unseen_inds = np.sort(np.load('./label_splits/' + st + 'u' + str(ss) + '.npy'))\n",
    "    seen_inds = np.load('./label_splits/'+ st + 's' + str(num_classes - ss) + '.npy')\n",
    "\n",
    "unseen_labels = labels[unseen_inds]\n",
    "seen_labels = labels[seen_inds]\n",
    "\n",
    "unseen_nouns = nouns[unseen_inds]\n",
    "unseen_verbs = verbs[unseen_inds]\n",
    "# unseen_prps = prps[unseen_inds]\n",
    "seen_nouns = nouns[seen_inds]\n",
    "seen_verbs = verbs[seen_inds]\n",
    "# seen_prps = prps[seen_inds]\n",
    "verb_corp = np.unique(verbs[gzsl_inds])\n",
    "noun_corp = np.unique(nouns[gzsl_inds])\n",
    "# prp_corp = np.unique(prps[gzsl_inds])\n",
    "\n",
    "# import gensim\n",
    "# model = gensim.models.KeyedVectors.load_word2vec_format('/ssd_scratch/cvit/pranay.gupta/GoogleNews-vectors-negative300.bin', binary=True)\n",
    "\n",
    "\n",
    "# def get_w2v(model, words):\n",
    "#     emb = np.zeros([300])\n",
    "#     for word in words.split():\n",
    "#         emb += model[word]\n",
    "#     emb /= len(words.split())\n",
    "    \n",
    "#     return emb\n",
    "\n",
    "\n",
    "verb_emb = torch.from_numpy(np.load(le + '_verb.npy')[:num_classes, :]).view([num_classes, verb_emb_input_size])\n",
    "verb_emb = verb_emb/torch.norm(verb_emb, dim = 1).view([num_classes, 1]).repeat([1, verb_emb_input_size])\n",
    "noun_emb = torch.from_numpy(np.load(le + '_noun.npy')[:num_classes, :]).view([num_classes, noun_emb_input_size])\n",
    "noun_emb = noun_emb/torch.norm(noun_emb, dim = 1).view([num_classes, 1]).repeat([1, noun_emb_input_size])\n",
    "# prp_w2v = torch.from_numpy(np.array([get_w2v(model, i) for i in prps])).view([60, 300])\n",
    "# prp_w2v = noun_emb/torch.norm(prp_w2v, dim = 1).view([60, 1]).repeat([1, 300])\n",
    "\n",
    "unseen_verb_emb = verb_emb[unseen_inds, :]\n",
    "unseen_noun_emb = noun_emb[unseen_inds, :]\n",
    "# unseen_prp_w2v = prp_w2v[unseen_inds, :]\n",
    "\n",
    "seen_verb_emb = verb_emb[seen_inds, :]\n",
    "seen_noun_emb = noun_emb[seen_inds, :]\n",
    "# seen_prp_w2v = prp_w2v[seen_inds, :]\n",
    "print(\"loaded language embeddings\")\n",
    "\n",
    "\n",
    "def get_text_data(target, verb_emb, noun_emb):\n",
    "    return verb_emb[target].view(target.shape[0], verb_emb_input_size).float(), noun_emb[target].view(target.shape[0], verb_emb_input_size).float()\n",
    "\n",
    "\n",
    "def save_checkpoint(state, filename='checkpoint.pth.tar', is_best=False):\n",
    "    torch.save(state, filename)\n",
    "    if is_best:\n",
    "        shutil.copyfile(filename, 'model_best.pth.tar')\n",
    "        \n",
    "def accuracy(class_embedding, vis_trans_out, target, inds):\n",
    "    inds = torch.from_numpy(inds).to(device)\n",
    "    temp_vis = vis_trans_out.unsqueeze(1).expand(vis_trans_out.shape[0], class_embedding.shape[0], vis_trans_out.shape[1])\n",
    "    temp_cemb = class_embedding.unsqueeze(0).expand(vis_trans_out.shape[0], class_embedding.shape[0], vis_trans_out.shape[1])\n",
    "    preds = torch.argmax(torch.sum(temp_vis*temp_cemb, axis=2), axis = 1)\n",
    "    acc = torch.sum(inds[preds] == target).item()/(preds.shape[0])\n",
    "    return acc, torch.sum(temp_vis*temp_cemb, axis=2)"
   ]
  },
  {
   "cell_type": "code",
   "execution_count": 29,
   "metadata": {},
   "outputs": [],
   "source": [
    "tars = []\n",
    "for i, (_, target) in enumerate(val_loader):\n",
    "    tars += list(target.numpy())"
   ]
  },
  {
   "cell_type": "code",
   "execution_count": 30,
   "metadata": {},
   "outputs": [],
   "source": [
    "test_y = []\n",
    "for i in tars:\n",
    "    if i in unseen_inds:\n",
    "        test_y.append(0)\n",
    "    else:\n",
    "        test_y.append(1)"
   ]
  },
  {
   "cell_type": "code",
   "execution_count": 31,
   "metadata": {},
   "outputs": [],
   "source": [
    "import numpy as np\n",
    "test_zs = np.load('/ssd_scratch/cvit/pranay.gupta/unseen_out/cadavae_5_r_gzsl_zs.npy')\n",
    "# np.array([j.cpu().detach().numpy() for i in test_zs for j in i])\n",
    "# test_noun_zs = np.array([j.cpu().detach().numpy() for i in test_noun_zs for j in i])\n",
    "# test_verb_zs = np.array([j.cpu().detach().numpy() for i in test_verb_zs for j in i])\n",
    "# test_seen = np.array([j.cpu().detach().numpy() for i in test_seen for j in i])\n",
    "test_seen = np.load('/ssd_scratch/cvit/pranay.gupta/ntu_results/shift_5_r/gtest_out.npy')"
   ]
  },
  {
   "cell_type": "code",
   "execution_count": 32,
   "metadata": {},
   "outputs": [
    {
     "data": {
      "text/plain": [
       "(16392, 60)"
      ]
     },
     "execution_count": 32,
     "metadata": {},
     "output_type": "execute_result"
    }
   ],
   "source": [
    "# test_seen.shape\n",
    "test_seen.shape"
   ]
  },
  {
   "cell_type": "code",
   "execution_count": 33,
   "metadata": {},
   "outputs": [],
   "source": [
    "def temp_scale(seen_features, T):\n",
    "    return np.array([np.exp(i)/np.sum(np.exp(i)) for i in (seen_features + 1e-12)/T])"
   ]
  },
  {
   "cell_type": "code",
   "execution_count": 34,
   "metadata": {},
   "outputs": [],
   "source": [
    "prob_test_zs = test_zs\n",
    "# np.array([np.exp(i)/np.sum(np.exp(i)) for i in test_zs])\n",
    "# prob_test_noun_zs = np.array([np.exp(i)/np.sum(np.exp(i)) for i in test_noun_zs])\n",
    "# prob_test_verb_zs = np.array([np.exp(i)/np.sum(np.exp(i)) for i in test_verb_zs])\n",
    "prob_test_seen = temp_scale(test_seen, 4)\n",
    "main_prob_test_seen = np.array([np.exp(i)/np.sum(np.exp(i)) for i in test_seen])"
   ]
  },
  {
   "cell_type": "code",
   "execution_count": 35,
   "metadata": {},
   "outputs": [],
   "source": [
    "feat_test_zs = np.sort(prob_test_zs, 1)[:,::-1][:,:5]\n",
    "# feat_test_noun_zs = np.sort(prob_test_noun_zs, 1)[:,::-1]\n",
    "# feat_test_verb_zs = np.sort(prob_test_verb_zs, 1)[:,::-1]\n",
    "feat_test_seen = np.sort(prob_test_seen, 1)[:,::-1][:,:5]"
   ]
  },
  {
   "cell_type": "code",
   "execution_count": 36,
   "metadata": {},
   "outputs": [],
   "source": [
    "# mod_feat_test_zs = np.concatenate([feat_test_noun_zs, feat_test_verb_zs], 1)\n",
    "gating_test_x = np.concatenate([feat_test_zs, feat_test_seen], 1)\n",
    "gating_test_y = test_y\n",
    "# gating_train_x = np.concatenate([np.concatenate([feat_unseen_zs[train_unseen_inds, :], feat_unseen_train[train_unseen_inds, :]], 1), np.concatenate([feat_seen_zs[train_seen_inds, :], feat_seen_train[train_seen_inds, :]], 1)], 0)\n",
    "# gating_train_y = [0]*len(train_unseen_inds) + [1]*len(train_seen_inds)"
   ]
  },
  {
   "cell_type": "code",
   "execution_count": 37,
   "metadata": {},
   "outputs": [
    {
     "data": {
      "text/plain": [
       "16392"
      ]
     },
     "execution_count": 37,
     "metadata": {},
     "output_type": "execute_result"
    }
   ],
   "source": [
    "len(gating_test_y)"
   ]
  },
  {
   "cell_type": "code",
   "execution_count": 38,
   "metadata": {},
   "outputs": [],
   "source": [
    "import pickle as pkl\n",
    "with open('/ssd_scratch/cvit/pranay.gupta/language_modelling/cada_vae_shift_5_r/gating_model_t4_thresh0.49_seen.pkl', 'rb') as f:\n",
    "    gating_model = pkl.load(f)"
   ]
  },
  {
   "cell_type": "code",
   "execution_count": 39,
   "metadata": {},
   "outputs": [],
   "source": [
    "prob_gate = gating_model.predict_proba(gating_test_x)"
   ]
  },
  {
   "cell_type": "code",
   "execution_count": 40,
   "metadata": {},
   "outputs": [],
   "source": [
    "pred_test = 1 - prob_gate[:, 0]>0.49"
   ]
  },
  {
   "cell_type": "code",
   "execution_count": 41,
   "metadata": {},
   "outputs": [
    {
     "data": {
      "text/plain": [
       "0.7301732552464617"
      ]
     },
     "execution_count": 41,
     "metadata": {},
     "output_type": "execute_result"
    }
   ],
   "source": [
    "# pred_val = gating_model.predict(gating_val_x)\n",
    "np.sum(pred_test == test_y)/len(test_y)"
   ]
  },
  {
   "cell_type": "code",
   "execution_count": 42,
   "metadata": {},
   "outputs": [],
   "source": [
    "a = prob_gate\n",
    "b = np.zeros(prob_gate.shape[0])"
   ]
  },
  {
   "cell_type": "code",
   "execution_count": 44,
   "metadata": {},
   "outputs": [],
   "source": [
    "p_gate_seen = prob_gate[:, 1]\n",
    "prob_y_given_seen = prob_test_seen + (1/60)*np.repeat((1 - p_gate_seen)[:, np.newaxis], 60, 1)"
   ]
  },
  {
   "cell_type": "code",
   "execution_count": 45,
   "metadata": {},
   "outputs": [],
   "source": [
    "p_gate_unseen = prob_gate[:, 0]\n",
    "prob_y_given_unseen = prob_test_zs + (1/5)*np.repeat((1 - p_gate_unseen)[:, np.newaxis], 5, 1)"
   ]
  },
  {
   "cell_type": "code",
   "execution_count": 46,
   "metadata": {},
   "outputs": [],
   "source": [
    "prob_seen = prob_y_given_seen*np.repeat(p_gate_seen[:, np.newaxis], 60, 1)\n",
    "prob_unseen = prob_y_given_unseen*np.repeat(p_gate_unseen[:, np.newaxis], 5, 1)"
   ]
  },
  {
   "cell_type": "code",
   "execution_count": 47,
   "metadata": {},
   "outputs": [],
   "source": [
    "final_preds = []\n",
    "\n",
    "# soft gating\n",
    "# for i in range(len(prob_seen)):\n",
    "#     if np.max(prob_seen[i, :]) > np.max(prob_unseen[i, :]):\n",
    "#         pred = seen_inds[np.argmax(prob_seen[i, :])]\n",
    "#     else:\n",
    "#         pred = unseen_inds[np.argmax(prob_unseen[i, :])]\n",
    "#     final_preds.append(pred)\n",
    "\n",
    "# hard gating\n",
    "# final_preds = seen_inds[np.argmax(prob_test_seen, -1)]*pred_test + unseen_inds[np.argmax(prob_test_zs, -1)]*(1-pred_test)\n",
    "seen_count = 0\n",
    "tot_seen = 0\n",
    "unseen_count = 0\n",
    "tot_unseen = 0\n",
    "gseen_count = 0\n",
    "gunseen_count = 0\n",
    "for i in range(len(gating_test_y)):\n",
    "    if pred_test[i] == 1:\n",
    "        pred = seen_inds[np.argmax(prob_test_seen[i, seen_inds])]\n",
    "    else:\n",
    "        pred = unseen_inds[np.argmax(prob_test_zs[i, :])]\n",
    "    \n",
    "    if tars[i] in seen_inds:\n",
    "        tot_seen += 1\n",
    "        if pred_test[i] == 1:\n",
    "            gseen_count += 1\n",
    "        if pred == tars[i]:\n",
    "            seen_count += 1\n",
    "    else:\n",
    "        if pred_test[i] == 0:\n",
    "            gunseen_count+=1\n",
    "        tot_unseen += 1\n",
    "        if pred == tars[i]:\n",
    "            unseen_count += 1\n",
    "    final_preds.append(pred)\n"
   ]
  },
  {
   "cell_type": "code",
   "execution_count": 48,
   "metadata": {},
   "outputs": [
    {
     "data": {
      "text/plain": [
       "0.7255919127427507"
      ]
     },
     "execution_count": 48,
     "metadata": {},
     "output_type": "execute_result"
    }
   ],
   "source": [
    "gseen_count/tot_seen"
   ]
  },
  {
   "cell_type": "code",
   "execution_count": 49,
   "metadata": {},
   "outputs": [
    {
     "data": {
      "text/plain": [
       "0.7809734513274337"
      ]
     },
     "execution_count": 49,
     "metadata": {},
     "output_type": "execute_result"
    }
   ],
   "source": [
    "gunseen_count/tot_unseen"
   ]
  },
  {
   "cell_type": "code",
   "execution_count": 50,
   "metadata": {},
   "outputs": [],
   "source": [
    "seen_acc = seen_count/tot_seen"
   ]
  },
  {
   "cell_type": "code",
   "execution_count": 51,
   "metadata": {},
   "outputs": [
    {
     "data": {
      "text/plain": [
       "0.6938680500133014"
      ]
     },
     "execution_count": 51,
     "metadata": {},
     "output_type": "execute_result"
    }
   ],
   "source": [
    "seen_acc"
   ]
  },
  {
   "cell_type": "code",
   "execution_count": 52,
   "metadata": {},
   "outputs": [],
   "source": [
    "unseen_acc = unseen_count/tot_unseen"
   ]
  },
  {
   "cell_type": "code",
   "execution_count": 53,
   "metadata": {},
   "outputs": [
    {
     "data": {
      "text/plain": [
       "0.6179941002949852"
      ]
     },
     "execution_count": 53,
     "metadata": {},
     "output_type": "execute_result"
    }
   ],
   "source": [
    "unseen_acc"
   ]
  },
  {
   "cell_type": "code",
   "execution_count": 54,
   "metadata": {},
   "outputs": [],
   "source": [
    "h_mean = 2*seen_acc*unseen_acc/(seen_acc + unseen_acc)"
   ]
  },
  {
   "cell_type": "code",
   "execution_count": 55,
   "metadata": {},
   "outputs": [
    {
     "data": {
      "text/plain": [
       "0.6537369207437486"
      ]
     },
     "execution_count": 55,
     "metadata": {},
     "output_type": "execute_result"
    }
   ],
   "source": [
    "h_mean"
   ]
  },
  {
   "cell_type": "code",
   "execution_count": 35,
   "metadata": {},
   "outputs": [
    {
     "data": {
      "text/plain": [
       "2284"
      ]
     },
     "execution_count": 35,
     "metadata": {},
     "output_type": "execute_result"
    }
   ],
   "source": [
    "unseen_count"
   ]
  },
  {
   "cell_type": "code",
   "execution_count": null,
   "metadata": {},
   "outputs": [],
   "source": []
  }
 ],
 "metadata": {
  "kernelspec": {
   "display_name": "env",
   "language": "python",
   "name": "env"
  },
  "language_info": {
   "codemirror_mode": {
    "name": "ipython",
    "version": 3
   },
   "file_extension": ".py",
   "mimetype": "text/x-python",
   "name": "python",
   "nbconvert_exporter": "python",
   "pygments_lexer": "ipython3",
   "version": "3.5.2"
  }
 },
 "nbformat": 4,
 "nbformat_minor": 2
}
